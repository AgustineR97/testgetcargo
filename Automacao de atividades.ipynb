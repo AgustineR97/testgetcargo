{
 "cells": [
  {
   "cell_type": "code",
   "execution_count": 59,
   "id": "c970081d",
   "metadata": {},
   "outputs": [],
   "source": [
    "import pyautogui\n",
    "import time"
   ]
  },
  {
   "cell_type": "code",
   "execution_count": null,
   "id": "ab82c65e",
   "metadata": {},
   "outputs": [],
   "source": [
    "pyautogui.write()\n",
    "pyautogui.click\n",
    "pyautogui.LocateOnScreem\n",
    "pyautogui.hotkey\n",
    "pyautogui.press"
   ]
  },
  {
   "cell_type": "code",
   "execution_count": 52,
   "id": "4d42693e",
   "metadata": {},
   "outputs": [
    {
     "data": {
      "text/plain": [
       "(228, 77)"
      ]
     },
     "execution_count": 52,
     "metadata": {},
     "output_type": "execute_result"
    }
   ],
   "source": [
    "x, y, largura, altura = pyautogui.locateOnScreen('Alterar.png')\n",
    "x, y"
   ]
  },
  {
   "cell_type": "code",
   "execution_count": 56,
   "id": "57e72427",
   "metadata": {},
   "outputs": [],
   "source": [
    "pyautogui.click(x + largura/2, y + altura/2)\n",
    "pyautogui.PAUSE = 0.5\n",
    "pyautogui.write('Automacao de atividades')\n",
    "pyautogui.PAUSE = 0.5\n",
    "pyautogui.press('enter')\n",
    "pyautogui.PAUSE = 0.5\n",
    "pyautogui.press('win', presses=3,  interval=0.5)"
   ]
  },
  {
   "cell_type": "code",
   "execution_count": 70,
   "id": "eee82e52",
   "metadata": {},
   "outputs": [],
   "source": [
    "\n",
    "nome = pyautogui.prompt('Diga o seu nome para começar o código', title='Nome')\n",
    "pyautogui.alert(f'{nome}, o código vai começar. Não usar o PC', title='Iniciando')\n",
    "pyautogui.PAUSE = 1.5\n",
    "x, y, largura, altura = pyautogui.locateOnScreen('Nova Guia.png')\n",
    "pyautogui.click(x + largura/2, y + altura/2)\n",
    "pyautogui.write('https://alternative.me/crypto/fear-and-greed-index/')\n",
    "pyautogui.press('enter')\n",
    "while not pyautogui.locateOnScreen('Fear.png'):\n",
    "    time.sleep(2)\n",
    "pyautogui.moveTo(100, 200)\n",
    "pyautogui.scroll(-500)\n"
   ]
  },
  {
   "cell_type": "code",
   "execution_count": null,
   "id": "a06cad50",
   "metadata": {},
   "outputs": [],
   "source": []
  }
 ],
 "metadata": {
  "kernelspec": {
   "display_name": "Python 3 (ipykernel)",
   "language": "python",
   "name": "python3"
  },
  "language_info": {
   "codemirror_mode": {
    "name": "ipython",
    "version": 3
   },
   "file_extension": ".py",
   "mimetype": "text/x-python",
   "name": "python",
   "nbconvert_exporter": "python",
   "pygments_lexer": "ipython3",
   "version": "3.9.7"
  }
 },
 "nbformat": 4,
 "nbformat_minor": 5
}
